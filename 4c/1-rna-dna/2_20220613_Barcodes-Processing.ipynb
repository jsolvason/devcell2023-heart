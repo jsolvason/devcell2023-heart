{
 "cells": [
  {
   "cell_type": "markdown",
   "id": "attractive-baptist",
   "metadata": {},
   "source": [
    "# Map barcodes to enhancers, save as DF"
   ]
  },
  {
   "cell_type": "code",
   "execution_count": null,
   "id": "effective-brazil",
   "metadata": {},
   "outputs": [],
   "source": [
    "import pickle\n",
    "import pandas as pd\n",
    "import numpy as np\n",
    "import math\n",
    "\n",
    "pd.set_option('display.max_columns', None)"
   ]
  },
  {
   "cell_type": "markdown",
   "id": "45845bd6-ba5f-411c-bcac-576eef8a13c4",
   "metadata": {},
   "source": [
    "# Load ordered enhancers"
   ]
  },
  {
   "cell_type": "code",
   "execution_count": null,
   "id": "4e226811-dd0b-4736-9e7a-7cf5490a43d2",
   "metadata": {},
   "outputs": [],
   "source": [
    "def read_tsv(fn,pc,header,breakBool=False,sep='\\t',pc_list=False):\n",
    "    '''Read a tsv file'''\n",
    "    with open(fn,'r') as f:\n",
    "\n",
    "        # If printing columns, skip header\n",
    "        if header:\n",
    "            if (pc==True): pass\n",
    "            else:          next(f)\n",
    "\n",
    "        for i,line in enumerate(f):\n",
    "            a=line.strip().split(sep)\n",
    "            if pc:\n",
    "                if pc_list==False:\n",
    "                    if i==0:\n",
    "                        for i,c in enumerate(a):\n",
    "                            print(i,c)\n",
    "                        print()\n",
    "                        if breakBool: break\n",
    "                        continue\n",
    "                else:\n",
    "                    if i==0:\n",
    "                        print(', '.join([i.replace('-','_').replace(' ','_') for i in a]))\n",
    "                        if breakBool: break\n",
    "                        continue\n",
    "            yield a\n"
   ]
  },
  {
   "cell_type": "code",
   "execution_count": null,
   "id": "8799db45-a8d7-46cd-a4e5-587cd95b25d8",
   "metadata": {},
   "outputs": [],
   "source": [
    "#################################\n",
    "# Load enhancer info\n",
    "#################################\n",
    "\n",
    "# Enhancer ID\n",
    "fn='all_variants_mattoe_joe_ordered_20220127_with_controls_Gata4.tsv'\n",
    "En2EnId={}\n",
    "\n",
    "for row in read_tsv(fn,pc=False,header=True):\n",
    "    name,seq=row\n",
    "    seq=seq[25:-25]\n",
    "    En2EnId[seq]=name\n",
    "\n",
    "with open('En2Name.pydict.pickle','wb') as f:\n",
    "    pickle.dump(En2EnId,f,protocol=pickle.HIGHEST_PROTOCOL)\n",
    "        \n"
   ]
  },
  {
   "cell_type": "markdown",
   "id": "7381f999-f864-4254-8913-0ba14430b702",
   "metadata": {},
   "source": [
    "# Load dict"
   ]
  },
  {
   "cell_type": "code",
   "execution_count": null,
   "id": "printable-smith",
   "metadata": {},
   "outputs": [],
   "source": [
    "##################################\n",
    "# Read in enhancer barcode dict\n",
    "##################################\n",
    "    \n",
    "# Load Enhancer-Barcode Dictionary (Unique BCs only)\n",
    "# in_dict_name='k_neighbors_1.filt_ubc2en.x=5.CEQTL3-50L2-BC3'\n",
    "in_dict_name='filt_ubc2en.x=2.CEQTL3-50L2-BC3'\n",
    "in_dict=f'{in_dict_name}.pydict.pickle'\n",
    "with open(in_dict,'rb') as f: Bc2En=pickle.load(f)\n"
   ]
  },
  {
   "cell_type": "code",
   "execution_count": null,
   "id": "1028d5ca-4556-41c5-830a-44a71fdf52b3",
   "metadata": {},
   "outputs": [],
   "source": [
    "bcSet=[bc[:25] for bc in Bc2En]\n",
    "print(len(bcSet),len(set(bcSet)))"
   ]
  },
  {
   "cell_type": "code",
   "execution_count": null,
   "id": "909dde25-53c0-4889-888a-7e096d68db5e",
   "metadata": {},
   "outputs": [],
   "source": [
    "def revcomp(dna):\n",
    "        '''Takes DNA sequence as input and returns reverse complement'''\n",
    "        inv={'A':'T','T':'A','G':'C','C':'G', 'N':'N','W':'W'}\n",
    "        revcomp_dna=[]\n",
    "        for nt in dna:\n",
    "                revcomp_dna.append(inv[nt])\n",
    "        return ''.join(revcomp_dna[::-1])\n"
   ]
  },
  {
   "cell_type": "code",
   "execution_count": null,
   "id": "6e71a629-2c43-4638-a035-ca145eeeb388",
   "metadata": {},
   "outputs": [],
   "source": [
    "# see of the barcodes that conflict after trimming, do they have the same enhancer\n",
    "Bc2EnSet={}\n",
    "for bc,en in Bc2En.items():\n",
    "    bc=revcomp(bc) # need to revcomp based on way dict is analyzed\n",
    "    bc=bc[:25]\n",
    "    if bc not in Bc2EnSet:\n",
    "        Bc2EnSet[bc]=set()\n",
    "    Bc2EnSet[bc].add(en)\n",
    "    \n",
    "len(Bc2EnSet)"
   ]
  },
  {
   "cell_type": "code",
   "execution_count": null,
   "id": "93f2a0d3-4da2-4d1c-abe4-aecd732907d4",
   "metadata": {},
   "outputs": [],
   "source": [
    "len2count={}\n",
    "for bc,enSet in Bc2EnSet.items():\n",
    "    if len(enSet) not in len2count:\n",
    "        len2count[len(enSet)]=0\n",
    "    len2count[len(enSet)]+=1\n",
    "    \n",
    "len2count"
   ]
  },
  {
   "cell_type": "code",
   "execution_count": null,
   "id": "b5fd35cd-7a15-4b65-93eb-85248612265c",
   "metadata": {},
   "outputs": [],
   "source": [
    "# trim to 25bp and double check that no barcodes conflict after trimming\n",
    "print('length before trim:',len(Bc2En))\n",
    "\n",
    "Bc2En={revcomp(bc)[:25]:en for bc,en in Bc2En.items()}\n",
    "\n",
    "print('length after trim:',len(Bc2En))"
   ]
  },
  {
   "cell_type": "code",
   "execution_count": null,
   "id": "1b549833-8218-4cdc-b78d-400592076b48",
   "metadata": {},
   "outputs": [],
   "source": [
    "bc_in_order=list(Bc2En.keys())"
   ]
  },
  {
   "cell_type": "markdown",
   "id": "dc6f098f-9555-4dfa-a45e-b15da8333d03",
   "metadata": {},
   "source": [
    "# Choose barcode samples"
   ]
  },
  {
   "cell_type": "code",
   "execution_count": null,
   "id": "earned-giving",
   "metadata": {},
   "outputs": [],
   "source": [
    "# #################################\n",
    "# # Choose samples\n",
    "# #################################\n",
    "\n",
    "sampleDir='./'\n",
    "samplePickleFnList  = !ls {sampleDir}/seq1/*.Bc2ReadCount.pickle + !ls {sampleDir}/seq2/*.Bc2ReadCount.pickle\n",
    "samplePickleFnList=samplePickleFnList[2:]\n",
    "samplePickleFnList"
   ]
  },
  {
   "cell_type": "code",
   "execution_count": null,
   "id": "d242aa24-627c-478a-b7bf-e4570ba74d86",
   "metadata": {},
   "outputs": [],
   "source": [
    "##############################\n",
    "# Instantiate dataframe pydict\n",
    "##############################\n",
    "\n",
    "Col2Values={'BC':[],'EN':[],'EN_ID':[]}#,'EN_LIB_NAME':[]}"
   ]
  },
  {
   "cell_type": "code",
   "execution_count": null,
   "id": "e9863f06-49fd-4909-b31e-ebdcb97c0069",
   "metadata": {},
   "outputs": [],
   "source": [
    "Sample2ColName={\n",
    "'./139_DNA_S161_L001_R1_001.Bc2ReadCount.pickle'         :'DNA_139-1',\n",
    "'./139_RNA_S159_L001_R1_001.Bc2ReadCount.pickle'         :'RNA_139-1',\n",
    "'./109-2-DNA_S6_L001_R1_001.Bc2ReadCount.pickle'      :'DNA_109-2',\n",
    "'./109-2-RNA_S1_L001_R1_001.Bc2ReadCount.pickle'      :'RNA_109-2',\n",
    "'./109-3-DNA_S7_L001_R1_001.Bc2ReadCount.pickle'      :'DNA_109-3',\n",
    "'./109-3-RNA_S2_L001_R1_001.Bc2ReadCount.pickle'      :'RNA_109-3',\n",
    "'./109-4-DNA_S8_L001_R1_001.Bc2ReadCount.pickle'      :'DNA_109-4',\n",
    "'./109-4-RNA_S3_L001_R1_001.Bc2ReadCount.pickle'      :'RNA_109-4',\n",
    "'./139-2-DNA_S9_L001_R1_001.Bc2ReadCount.pickle'      :'DNA_139-2',\n",
    "'./139-2-RNA_S4_L001_R1_001.Bc2ReadCount.pickle'      :'RNA_139-2',\n",
    "'./139-3-DNA_S10_L001_R1_001.Bc2ReadCount.pickle'     :'DNA_139-3',\n",
    "'./139-3-RNA_S5_L001_R1_001.Bc2ReadCount.pickle'      :'RNA_139-3',\n",
    "}    \n",
    "\n",
    "for s in Sample2ColName:\n",
    "    s=Sample2ColName[s]\n",
    "    \n",
    "    Col2Values[f'{s}_RPM']=[]\n",
    "    Col2Values[f'{s}_RC' ]=[]\n",
    "    \n",
    "list(Col2Values.keys())"
   ]
  },
  {
   "cell_type": "code",
   "execution_count": null,
   "id": "9534e6c8-758e-4308-85b2-b92a98863e13",
   "metadata": {},
   "outputs": [],
   "source": [
    "len(En2EnId)"
   ]
  },
  {
   "cell_type": "code",
   "execution_count": null,
   "id": "subject-infection",
   "metadata": {},
   "outputs": [],
   "source": [
    "#########################\n",
    "# Add data from Bc/En\n",
    "#########################\n",
    "\n",
    "for bc in bc_in_order:\n",
    "    en=Bc2En[bc]\n",
    "    Col2Values['BC'].append(bc)\n",
    "    Col2Values['EN'].append(en)\n",
    "    Col2Values['EN_ID'].append(En2EnId[en])\n",
    "    # Col2Values['EN_LIB_NAME'].append(Enhancer2LibName[en])"
   ]
  },
  {
   "cell_type": "code",
   "execution_count": null,
   "id": "republican-morning",
   "metadata": {},
   "outputs": [],
   "source": [
    "#########################\n",
    "# Add data from RPM/RC\n",
    "#########################\n",
    "\n",
    "ColName2ReadcountsAndFilename={}\n",
    "\n",
    "for sampleFn,sampleName in Sample2ColName.items():\n",
    "    \n",
    "    print(sampleName)\n",
    "    \n",
    "    # determine column names\n",
    "    colRc = sampleName+'_RC'\n",
    "    colRpm= sampleName+'_RPM'\n",
    "    \n",
    "    Col2Values[colRc]=[]\n",
    "    Col2Values[colRpm]=[]\n",
    "    \n",
    "    # Load readcount dictionary\n",
    "    with open(sampleFn,'rb') as f: bc2rc=pickle.load(f)\n",
    "    totalReads=sum(bc2rc.values())\n",
    "    \n",
    "    # print('\\t',sampleFn.split('/')[-1])\n",
    "    # print('\\t',f'{totalReads:,}')\n",
    "    ColName2ReadcountsAndFilename[sampleName]=(totalReads,sampleFn)\n",
    "    \n",
    "    # for each barcode\n",
    "    for bc in Col2Values['BC']:\n",
    "    \n",
    "        # determine read count\n",
    "        if bc in bc2rc:                rc=bc2rc[bc]\n",
    "        elif revcomp(bc) in bc2rc: rc=bc2rc[revcomp(bc)]\n",
    "        else:                          rc=0\n",
    "        \n",
    "        # add read count\n",
    "        Col2Values[colRc].append(rc)\n",
    "    \n",
    "        # add rpm \n",
    "        Col2Values[colRpm].append(1e6*rc/totalReads)\n",
    "    \n",
    "\n"
   ]
  },
  {
   "cell_type": "code",
   "execution_count": null,
   "id": "60949e8b-0330-40bb-9a6a-5d3ff84a1299",
   "metadata": {},
   "outputs": [],
   "source": [
    "##################################\n",
    "# Create DF from data\n",
    "##################################\n",
    "\n",
    "# Make sure all columns are same len\n",
    "for col in Col2Values:\n",
    "    print(col,len(Col2Values[col]))\n",
    "   "
   ]
  },
  {
   "cell_type": "code",
   "execution_count": null,
   "id": "f267fde1-3dae-46f0-8057-3b12218feedd",
   "metadata": {},
   "outputs": [],
   "source": [
    " \n",
    "# Make df\n",
    "df=pd.DataFrame(Col2Values)\n",
    "df.head()"
   ]
  },
  {
   "cell_type": "code",
   "execution_count": null,
   "id": "sound-james",
   "metadata": {},
   "outputs": [],
   "source": [
    "del Col2Values"
   ]
  },
  {
   "cell_type": "code",
   "execution_count": null,
   "id": "7a4bc14a-2fbd-444b-b0a1-2f65707b5a31",
   "metadata": {},
   "outputs": [],
   "source": [
    "# only consider barcodes 25bp\n",
    "print(len(df))\n",
    "df=df.loc[df.BC.str.len()==25,:]\n",
    "print(len(df))"
   ]
  },
  {
   "cell_type": "code",
   "execution_count": null,
   "id": "17779b47-b9ad-41bb-8911-8df2b84de8da",
   "metadata": {},
   "outputs": [],
   "source": [
    "def percent(number,rounding_digit=1):\n",
    "    '''Get percent of fraction'''\n",
    "    if rounding_digit==0:\n",
    "        return str(int(100*number))+'%'\n",
    "    else:\n",
    "        return str(round(100*number,rounding_digit))+'%'"
   ]
  },
  {
   "cell_type": "code",
   "execution_count": null,
   "id": "82c67bec-4ded-4cb6-a5bd-95ff6c517a06",
   "metadata": {},
   "outputs": [],
   "source": [
    "cols=[\n",
    "'DNA_109-2',\n",
    "'RNA_109-2',\n",
    "'DNA_109-3',\n",
    "'RNA_109-3',\n",
    "'DNA_109-4',\n",
    "'RNA_109-4',\n",
    "'DNA_139-1',\n",
    "'RNA_139-1',\n",
    "'DNA_139-2',\n",
    "'RNA_139-2',\n",
    "'DNA_139-3',\n",
    "'RNA_139-3',\n",
    "]\n",
    "for c in cols:\n",
    "    reads=df[c+'_RC'].sum()\n",
    "    readsTotal=ColName2ReadcountsAndFilename[c][0]\n",
    "    percentUsed=percent(reads/readsTotal)\n",
    "    print(c,f'{reads:,} ({percentUsed})')"
   ]
  },
  {
   "cell_type": "code",
   "execution_count": null,
   "id": "58b2c00c-ac8b-4b75-9979-4995dbdfbd5d",
   "metadata": {},
   "outputs": [],
   "source": [
    "for sampleName,(readcounts,fn) in ColName2ReadcountsAndFilename.items():\n",
    "    print('\\t'.join([sampleName,f'{readcounts:,}',fn]))"
   ]
  },
  {
   "cell_type": "code",
   "execution_count": null,
   "id": "4523a4f5-bb9c-49c9-a33d-2a88142e2bf8",
   "metadata": {},
   "outputs": [],
   "source": [
    "df.to_pickle(f'1.Bc2En2RPM.DictBcsOnly.{in_dict_name}.pd.pickle')"
   ]
  }
 ],
 "metadata": {
  "kernelspec": {
   "display_name": "Python 3 (ipykernel)",
   "language": "python",
   "name": "python3"
  },
  "language_info": {
   "codemirror_mode": {
    "name": "ipython",
    "version": 3
   },
   "file_extension": ".py",
   "mimetype": "text/x-python",
   "name": "python",
   "nbconvert_exporter": "python",
   "pygments_lexer": "ipython3",
   "version": "3.9.7"
  }
 },
 "nbformat": 4,
 "nbformat_minor": 5
}
