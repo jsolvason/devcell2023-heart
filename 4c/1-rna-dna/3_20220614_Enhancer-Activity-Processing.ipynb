{
 "cells": [
  {
   "cell_type": "code",
   "execution_count": null,
   "id": "96afb526-c8af-4351-b012-8f55efaab9c9",
   "metadata": {},
   "outputs": [],
   "source": [
    "import pandas as pd\n",
    "import numpy as np\n",
    "import matplotlib.pyplot as plt\n",
    "import pickle\n",
    "import scipy.stats as stats\n",
    "import sigfig as sf\n",
    "import seaborn as sns\n",
    "\n",
    "pd.set_option('display.max_columns', None)\n",
    "pd.set_option('display.max_rows', None)"
   ]
  },
  {
   "cell_type": "code",
   "execution_count": null,
   "id": "c273ae8f-a7c9-4045-8f29-83889f2d0b62",
   "metadata": {},
   "outputs": [],
   "source": [
    "def normalize_minmax_list(l):\n",
    "    '''A method to do min max scaling for library.\n",
    "    Note: 1) Returns np.NaN values when str(value)=='nan'\n",
    "          2) Doesnt use np.NaN values to determine max/min'''\n",
    "    \n",
    "    # remove na entries\n",
    "    disallowedEntries=set(['nan','inf','-inf'])\n",
    "    l_for_min_max=[i for i in l if str(i) not in disallowedEntries]\n",
    "\n",
    "    MIN=min(l_for_min_max)\n",
    "    MAX=max(l_for_min_max)\n",
    "\n",
    "    out=[]\n",
    "    for i in l:\n",
    "        # If real value\n",
    "        if str(i) not in disallowedEntries: out.append((i-MIN) / (MAX-MIN))\n",
    "        else:             out.append(np.NaN)\n",
    "    return out\n",
    "\n",
    "normalize_minmax_list([np.inf,-np.inf,0,1,2,3,np.NaN])"
   ]
  },
  {
   "cell_type": "markdown",
   "id": "50a20791-9fb0-493c-ab54-1712152de0cb",
   "metadata": {},
   "source": [
    "# Load barcode counts"
   ]
  },
  {
   "cell_type": "code",
   "execution_count": null,
   "id": "2e296445-6b89-4370-be7d-605139a578fe",
   "metadata": {},
   "outputs": [],
   "source": [
    "dict_name='filt_ubc2en.x=2.CEQTL3-50L2-BC3'\n",
    "fn=f'1.Bc2En2RPM.DictBcsOnly.{dict_name}.pd.pickle'\n",
    "\n",
    "bcDF=pd.read_pickle(fn)\n",
    "bcDF.head()"
   ]
  },
  {
   "cell_type": "markdown",
   "id": "a300fcf5-b606-436e-ba46-84aaf5739ea0",
   "metadata": {},
   "source": [
    "# Calculate barcode activity RNA/DNA"
   ]
  },
  {
   "cell_type": "code",
   "execution_count": null,
   "id": "898d2b3b-6666-4803-8a43-af7ae1eb07f7",
   "metadata": {},
   "outputs": [],
   "source": [
    "# Add barcode number within enhancers\n",
    "barcodeNum=[]\n",
    "en2count={}\n",
    "for i in bcDF.index:\n",
    "    en=bcDF.at[i,'EN']\n",
    "    \n",
    "    if en not in en2count:\n",
    "        en2count[en]=0\n",
    "        \n",
    "    barcodeNum.append(en2count[en])\n",
    "    \n",
    "    en2count[en]+=1\n",
    "    \n",
    "bcDF['BC_NUM']=barcodeNum"
   ]
  },
  {
   "cell_type": "code",
   "execution_count": null,
   "id": "a5485583-218f-4219-8988-5e79df6f5e85",
   "metadata": {
    "tags": []
   },
   "outputs": [],
   "source": [
    "bcDF.sort_values([\"EN\",'BC_NUM']).head(20)"
   ]
  },
  {
   "cell_type": "code",
   "execution_count": null,
   "id": "5a4b769a-f3f2-433e-ad94-706c344c8bad",
   "metadata": {},
   "outputs": [],
   "source": [
    "for unit in ['RPM']:\n",
    "    for rep in ['109-2','109-3','109-4','139-1','139-2','139-3']:\n",
    "        bcDF[f'RATIO_{rep}_{unit}']      = bcDF[f'RNA_{rep}_{unit}'] / bcDF[f'DNA_{rep}_{unit}']\n",
    "        bcDF[f'RATIO_{rep}_{unit}_LOG2'] = bcDF[f'RATIO_{rep}_{unit}'].apply(lambda i: np.log2(i))\n",
    "        bcDF[f'RATIO_{rep}_{unit}_LOG2_NORM'] = normalize_minmax_list(bcDF[f'RATIO_{rep}_{unit}_LOG2'])\n",
    "\n",
    "        bcDF[f'RATIO_{rep}_{unit}_TUPLE']      = bcDF.apply(lambda row:      (row['BC_NUM'],row[f'RNA_{rep}_{unit}'],row[f'DNA_{rep}_{unit}'],row[f'RATIO_{rep}_{unit}']),axis=1)\n",
    "        bcDF[f'RATIO_{rep}_{unit}_LOG2_TUPLE'] = bcDF.apply(lambda row:      (row['BC_NUM'],row[f'RNA_{rep}_{unit}'],row[f'DNA_{rep}_{unit}'],row[f'RATIO_{rep}_{unit}_LOG2']),axis=1)\n",
    "        bcDF[f'RATIO_{rep}_{unit}_LOG2_NORM_TUPLE'] = bcDF.apply(lambda row: (row['BC_NUM'],row[f'RNA_{rep}_{unit}'],row[f'DNA_{rep}_{unit}'],row[f'RATIO_{rep}_{unit}_LOG2_NORM']),axis=1)\n",
    "    \n",
    "bcDF.head()"
   ]
  },
  {
   "cell_type": "code",
   "execution_count": null,
   "id": "d9fd2f7d-a3b8-4b7e-a51e-43e762f97228",
   "metadata": {},
   "outputs": [],
   "source": [
    "\n",
    "bcDF.to_pickle(f'1b.Bc2En2RPM.DictBcsOnly.ActivityMeasurements.{dict_name}.pd.pickle')"
   ]
  },
  {
   "cell_type": "markdown",
   "id": "cdc90363-e522-437b-b60c-31a61430af1d",
   "metadata": {},
   "source": [
    "# Assess reproducibility of RNA and DNA"
   ]
  },
  {
   "cell_type": "code",
   "execution_count": null,
   "id": "ebf76030-0407-49ab-9e29-fa2d824267bc",
   "metadata": {},
   "outputs": [],
   "source": [
    "def is_point_within_two_lines(x,y,p0,p1):\n",
    "    \n",
    "    y0=p0(x)\n",
    "    y1=p1(x)\n",
    "    \n",
    "    if y>=y0 and y<=y1: return True\n",
    "    else: return False\n",
    "    \n",
    "    \n",
    "# is_point_within_two_lines(250,500,p0,p1)"
   ]
  },
  {
   "cell_type": "code",
   "execution_count": null,
   "id": "8c7fc560-a3b9-4540-829c-b41b9c24517a",
   "metadata": {},
   "outputs": [],
   "source": [
    "comparisonList=[\n",
    "    ('RNA_109-2_RPM','RNA_109-3_RPM'),\n",
    "    ('RNA_109-2_RPM','RNA_109-4_RPM'),\n",
    "    ('RNA_109-3_RPM','RNA_109-4_RPM'),\n",
    "    \n",
    "    ('RNA_139-1_RPM','RNA_139-2_RPM'),\n",
    "    ('RNA_139-1_RPM','RNA_139-3_RPM'),\n",
    "    ('RNA_139-2_RPM','RNA_139-3_RPM'),\n",
    "]\n",
    "\n",
    "for x,y in comparisonList:\n",
    "\n",
    "\n",
    "    X=[]\n",
    "    Y=[]\n",
    "    omit=['nan','inf','-inf']\n",
    "    for xi,yi in zip(bcDF[x].tolist(),bcDF[y].tolist()):\n",
    "        if xi not in omit and yi not in omit:\n",
    "            X.append(float(xi))\n",
    "            Y.append(float(yi))\n",
    "\n",
    "    # calculate equation for trendline\n",
    "    X=np.array(X)\n",
    "    Y=np.array(Y)\n",
    "\n",
    "    z = np.polyfit(X,Y, 1)\n",
    "    \n",
    "    pr,pp=stats.pearsonr(X,Y)\n",
    "    sr,sp=stats.spearmanr(X,Y)\n",
    "\n",
    "    fig,ax=plt.subplots(1,figsize=(5,5),dpi=150)\n",
    "    plt.scatter(X,Y,s=.7,color='red')\n",
    "    plt.title(f'RNA Repro\\nSpear. R={sf.round(sr,3)}\\nPears. R={sf.round(pr,3)}')\n",
    "    plt.xlabel(x)\n",
    "    plt.ylabel(y)"
   ]
  },
  {
   "cell_type": "markdown",
   "id": "9e70e387-647f-41df-bb2d-4a9794f0fd79",
   "metadata": {},
   "source": [
    "# Calculate enhancer activity"
   ]
  },
  {
   "cell_type": "markdown",
   "id": "bccac23f-3daa-4cf6-8774-9c7d69f2cbe2",
   "metadata": {},
   "source": [
    "## Paired RNA/DNA measurements"
   ]
  },
  {
   "cell_type": "code",
   "execution_count": null,
   "id": "3b997f8a-19c3-437d-a23d-aa34d87f83ea",
   "metadata": {},
   "outputs": [],
   "source": [
    "\n",
    "enDF=bcDF.loc[:,:]"
   ]
  },
  {
   "cell_type": "code",
   "execution_count": null,
   "id": "888b89bf-4c91-4003-87c2-232a42298799",
   "metadata": {},
   "outputs": [],
   "source": [
    "enDF.head()"
   ]
  },
  {
   "cell_type": "code",
   "execution_count": null,
   "id": "41b6d6ef-ffe3-42b4-bdf3-9c758f880a06",
   "metadata": {},
   "outputs": [],
   "source": [
    "def list_minus_na(l):\n",
    "    l=[i for i in l if str(i)!='nan']\n",
    "    if len(l)>0:\n",
    "        return l\n",
    "    else:\n",
    "        return []"
   ]
  },
  {
   "cell_type": "code",
   "execution_count": null,
   "id": "50649d5a-f1f1-4d03-838d-f995f707b7eb",
   "metadata": {},
   "outputs": [],
   "source": [
    "AggregateKeys=['EN','EN_ID']\n",
    "AggregateFxns = { col : list_minus_na for col in enDF.columns if col not in AggregateKeys}\n",
    "enDF=enDF.groupby(AggregateKeys).agg(AggregateFxns).reset_index()\n",
    "enDF.columns=[f'{col}_LIST' if col not in ['EN','EN_ID'] else col for col in enDF.columns ]\n",
    "enDF.head()"
   ]
  },
  {
   "cell_type": "code",
   "execution_count": null,
   "id": "14121cbb-bb15-466f-876f-37ff6a247e56",
   "metadata": {},
   "outputs": [],
   "source": [
    "\n",
    "enDF.to_pickle(f'2.En2Activity.FilterByMinDnaRpm.{dict_name}.pd.pickle')\n"
   ]
  },
  {
   "cell_type": "code",
   "execution_count": null,
   "id": "74ae0d4d-acab-4fff-a654-2129fd7a0198",
   "metadata": {},
   "outputs": [],
   "source": [
    "enDF.columns.tolist()"
   ]
  },
  {
   "cell_type": "markdown",
   "id": "6c2abf5d-7d92-4227-b039-ddf2e3a54fc6",
   "metadata": {},
   "source": [
    "## Enhancer Reproducibility"
   ]
  },
  {
   "cell_type": "code",
   "execution_count": null,
   "id": "447d929b-c598-4329-8962-53e876e73ebf",
   "metadata": {},
   "outputs": [],
   "source": [
    "rnaMinRpm=75\n",
    "dnaMinRpm=0\n",
    "\n",
    "sampleList=[\n",
    " 'RATIO_109-2_RPM_TUPLE_LIST',\n",
    " 'RATIO_109-3_RPM_TUPLE_LIST',\n",
    " 'RATIO_109-4_RPM_TUPLE_LIST',\n",
    " 'RATIO_139-1_RPM_TUPLE_LIST',\n",
    " 'RATIO_139-2_RPM_TUPLE_LIST',\n",
    " 'RATIO_139-3_RPM_TUPLE_LIST']\n",
    "\n",
    "for sample in sampleList:\n",
    "    \n",
    "    newCol=sample+'_FILT=MINRPM'\n",
    "    \n",
    "    #                                                  tup[0]=bc num, tup[1]=rna, tup[2]=dna, tup[3]=ratio\n",
    "    enDF[newCol]=enDF[sample].apply(lambda tupList: [tup for tup in tupList if tup[1]>=rnaMinRpm and tup[2]>=dnaMinRpm])\n",
    "    \n",
    "    print(sample)\n",
    "\n"
   ]
  },
  {
   "cell_type": "code",
   "execution_count": null,
   "id": "e2f427b9-c2e2-4d02-9db1-4602cd5720d5",
   "metadata": {},
   "outputs": [],
   "source": [
    "for si in sampleList:\n",
    "    \n",
    "    si+='_FILT=MINRPM'\n",
    "    \n",
    "    medianCol=si+'_BCMEDIAN'\n",
    "    meanCol  =si+'_BCMEAN'\n",
    "    \n",
    "    #                                       t[3]=ratio\n",
    "    enDF[medianCol]=enDF[si].apply(lambda tupList: np.median([t[3] for t in tupList]))\n",
    "    enDF[meanCol]  =enDF[si].apply(lambda tupList: np.mean(  [t[3] for t in tupList]))\n",
    "    \n",
    "    print(si,medianCol)"
   ]
  },
  {
   "cell_type": "code",
   "execution_count": null,
   "id": "1ee68d07-9651-4299-9611-70b69ec56797",
   "metadata": {},
   "outputs": [],
   "source": [
    "[c for c in enDF.columns if 'MEAN' in c]"
   ]
  },
  {
   "cell_type": "code",
   "execution_count": null,
   "id": "3cfd0d8e-ca9a-42dd-af65-db31268eb907",
   "metadata": {},
   "outputs": [],
   "source": [
    "comarisonList= \\\n",
    " ('RATIO_109-2_RPM_TUPLE_LIST_FILT=MINRPM','RATIO_109-3_RPM_TUPLE_LIST_FILT=MINRPM'),\n",
    " ('RATIO_109-2_RPM_TUPLE_LIST_FILT=MINRPM','RATIO_109-4_RPM_TUPLE_LIST_FILT=MINRPM'),\n",
    " ('RATIO_109-3_RPM_TUPLE_LIST_FILT=MINRPM','RATIO_109-4_RPM_TUPLE_LIST_FILT=MINRPM'),\n",
    " \n",
    " ('RATIO_139-1_RPM_TUPLE_LIST_FILT=MINRPM', 'RATIO_139-2_RPM_TUPLE_LIST_FILT=MINRPM'),\n",
    " ('RATIO_139-1_RPM_TUPLE_LIST_FILT=MINRPM', 'RATIO_139-3_RPM_TUPLE_LIST_FILT=MINRPM'),\n",
    " ('RATIO_139-2_RPM_TUPLE_LIST_FILT=MINRPM', 'RATIO_139-3_RPM_TUPLE_LIST_FILT=MINRPM')]\n",
    "\n",
    "s_medianCorrs=[]\n",
    "p_medianCorrs=[]\n",
    "s_meanCorrs  =[]\n",
    "p_meanCorrs  =[]\n",
    "for aggfunc in ['_BCMEAN','_BCMEDIAN']:\n",
    "    for x,y in comarisonList:\n",
    "\n",
    "        x+=aggfunc\n",
    "        y+=aggfunc\n",
    "        \n",
    "        X=[]\n",
    "        Y=[]\n",
    "        omit=['nan','inf','-inf']\n",
    "        for xi,yi in zip(enDF[x].tolist(),enDF[y].tolist()):\n",
    "            if str(xi) not in omit and str(yi) not in omit:\n",
    "                X.append(float(xi))\n",
    "                Y.append(float(yi))\n",
    "\n",
    "        # calculate equation for trendline\n",
    "        X=np.array(X)\n",
    "        Y=np.array(Y)\n",
    "\n",
    "        # z = np.polyfit(X,Y, 1)\n",
    "\n",
    "        pr,pp=stats.pearsonr(X,Y)\n",
    "        sr,sp=stats.spearmanr(X,Y)\n",
    "        \n",
    "        if aggfunc=='_BCMEDIAN':\n",
    "            s_medianCorrs.append(sr)\n",
    "            p_medianCorrs.append(pr)\n",
    "        elif aggfunc=='_BCMEAN':\n",
    "            s_meanCorrs  .append(sr)\n",
    "            p_meanCorrs  .append(pr)\n",
    "        \n",
    "\n",
    "        fig,ax=plt.subplots(1,figsize=(5,5),dpi=150)\n",
    "        plt.scatter(X,Y,s=.7,color='black')\n",
    "        \n",
    "        xtitle=x.split('RATIO_')[-1].split('_RPM_TUPLE')[0]\n",
    "        ytitle=y.split('RATIO_')[-1].split('_RPM_TUPLE')[0]\n",
    "        \n",
    "        plt.title(f'{xtitle} vs {ytitle}\\nSpear. R={sf.round(sr,3)}\\nPears. R={sf.round(pr,3)}')\n",
    "        plt.xlabel(x)\n",
    "        plt.ylabel(y)\n",
    "        "
   ]
  },
  {
   "cell_type": "code",
   "execution_count": null,
   "id": "26853409-8468-426a-a474-d22ab81a7535",
   "metadata": {},
   "outputs": [],
   "source": [
    "data=[s_medianCorrs,\n",
    "p_medianCorrs,\n",
    "s_meanCorrs  ,\n",
    "p_meanCorrs  ]\n",
    "\n",
    "fig,ax=plt.subplots(1,figsize=(5,5),dpi=150)\n",
    "\n",
    "sns.swarmplot(data=data,ax=ax)\n",
    "\n",
    "ax.set_xticklabels(['Spearman\\nMedian','Pearson\\nMedian','Spearman\\nMean','Pearson\\nMean',])\n",
    "ax.set_ylim(0,1)\n",
    "ax.set_ylabel('R correlation')"
   ]
  }
 ],
 "metadata": {
  "kernelspec": {
   "display_name": "Python 3 (ipykernel)",
   "language": "python",
   "name": "python3"
  },
  "language_info": {
   "codemirror_mode": {
    "name": "ipython",
    "version": 3
   },
   "file_extension": ".py",
   "mimetype": "text/x-python",
   "name": "python",
   "nbconvert_exporter": "python",
   "pygments_lexer": "ipython3",
   "version": "3.9.7"
  },
  "toc-autonumbering": true
 },
 "nbformat": 4,
 "nbformat_minor": 5
}
