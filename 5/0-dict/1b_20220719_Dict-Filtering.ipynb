{
 "cells": [
  {
   "cell_type": "code",
   "execution_count": 1,
   "id": "197a1f88-fc13-42d2-bd76-783e9fcab9d6",
   "metadata": {},
   "outputs": [],
   "source": [
    "import pickle\n",
    "import js # github commit 32863a0 https://github.com/jsolvason/js date May 19 2023\n",
    "import matplotlib.pyplot as plt"
   ]
  },
  {
   "cell_type": "code",
   "execution_count": 2,
   "id": "20ef599e-111a-4aab-92b1-af1e86f0a530",
   "metadata": {},
   "outputs": [
    {
     "name": "stdout",
     "output_type": "stream",
     "text": [
      "TGTTGAAGTCGGTGTCGAGACGGCTCCAGC {'TCTTTGCTATTGTGAATAGTGCTGCAATAAACATACGTGTGCATGTGTCTTTATAGCATGTGTTTTTCTTTGTTCTGATTCTGAATTGCCCTGTTGGTGGTGCTGCCCTGTTAAAAGTCAGTTAGGATGGCCCTGAATGTGAGTTTTGCTAGGCTATTAATGACCGTTTATTTGGCCAACAAGTGTTACAAACACGTGATTAAGCAAAGGTAAGCAAATTCTTTATTACAGGAGTTCTCAGAGCTCTTACTGTACTGACATGAATTATAAATCTTTAAAAGGACGGTATGGTAACTAGACTCCAGCAAAAGGGTCATAGAACCATTTTTAAATTGGTGGTTGTTGTTAGATCTCTTGGCACTAACATTCTTGAAAATATGCTTGGGGAAATGCTAACTCAGAAATTAACGTTTGCTGAACCCAGAGTCCACTGGGTTACCCCTAGGTGAACTTCTAGTTCCCGAAGTTGGCCTTTGGATGAGTCATCTTCCCCCATCAGGTTCAACTATGTGAGGATCATTCTGCAGTCACTCATGATAACCATTTCTCAGTTTAATGGTACAATTCCATATTGCCTTACATTTTATATAAGTTGTAAGCTCATAAAACATCTTTGTATATTTGGAATGTACTAAAGACTGCAAGTTAACCCAGACTAAAACAACCTCAAAGTTATTTGCAATCTTCTGAACATCTCCATATTACAGCAACTGCCCTTCTCACGAGCAGGTCCATTTTCCTTTTTTGATGAGGATACTAGCTTCTGGCAAGCTGAACTCTCCTTTGGATCACAAACTTTCCTTCTCCTAAAGGTCCCAGATGTTACTAAGATTTAAAATAGGTCAGCTCACATTTTTGGCCTTTTCATACAACATAGCCCACGTTAGATTGGTAAAGAGACAGATAACACATAGAAAAAAAGATCCAAGTAGCCCAAGAAAGCCTGTTCCTGGAACGTGATCAAACTTTTTGCTCCATCCATACCTTTCCTCACAAAAGC': 14}\n"
     ]
    }
   ],
   "source": [
    "# load unfiltered dict\n",
    "dictname='CEQTL3-50L2-BC3'\n",
    "fn=f'umm_bc2en2count.{dictname}.pydict.pickle'\n",
    "\n",
    "with open(fn,'rb') as f:\n",
    "    bc2en2count=pickle.load(f)\n",
    "\n",
    "js.dprint(bc2en2count)"
   ]
  },
  {
   "cell_type": "code",
   "execution_count": 3,
   "id": "6dbe2c5b-f321-4348-9761-2439a3972da7",
   "metadata": {},
   "outputs": [],
   "source": [
    "counts=[]\n",
    "for bc,en2count in bc2en2count.items():\n",
    "    for en,count in en2count.items():\n",
    "        counts.append(count)"
   ]
  },
  {
   "cell_type": "code",
   "execution_count": 4,
   "id": "9f661dbd-45cc-444c-9ff4-db1b66e9531f",
   "metadata": {},
   "outputs": [
    {
     "data": {
      "text/plain": [
       "(0.0, 10.0)"
      ]
     },
     "execution_count": 4,
     "metadata": {},
     "output_type": "execute_result"
    },
    {
     "data": {
      "image/png": "[encoded data removed]",
      "text/plain": [
       "<Figure size 432x288 with 1 Axes>"
      ]
     },
     "metadata": {
      "needs_background": "light"
     },
     "output_type": "display_data"
    }
   ],
   "source": [
    "plt.hist(counts,bins=range(100))\n",
    "plt.xlim(0,10)"
   ]
  },
  {
   "cell_type": "markdown",
   "id": "f60faf10-e9f0-4cfc-aaea-359c5b067c29",
   "metadata": {},
   "source": [
    "# Filter dictionary\n"
   ]
  },
  {
   "cell_type": "code",
   "execution_count": 14,
   "id": "a0b1b913-0247-40b5-8d91-01d2ea7b204b",
   "metadata": {},
   "outputs": [],
   "source": [
    "# what is minimum barcode readount for unique barcodes to consider TRUE UNIQUE\n",
    "x=1\n",
    "\n"
   ]
  },
  {
   "cell_type": "code",
   "execution_count": 15,
   "id": "b63f7ef4-99c6-45cf-8120-c0c34d869d54",
   "metadata": {},
   "outputs": [
    {
     "data": {
      "text/plain": [
       "4483"
      ]
     },
     "execution_count": 15,
     "metadata": {},
     "output_type": "execute_result"
    }
   ],
   "source": [
    "len(bc2en2count)"
   ]
  },
  {
   "cell_type": "code",
   "execution_count": 16,
   "id": "c10c95fd-6e1d-4871-8aa0-ab064b6a0a8c",
   "metadata": {},
   "outputs": [],
   "source": [
    "filt_bc2en2count={bc:{en:count for en,count in en2count.items() if int(count)>=x} for bc,en2count in bc2en2count.items()}"
   ]
  },
  {
   "cell_type": "code",
   "execution_count": 17,
   "id": "bf9b483b-609f-44ef-a162-a53fe3ee7030",
   "metadata": {},
   "outputs": [
    {
     "data": {
      "text/plain": [
       "4483"
      ]
     },
     "execution_count": 17,
     "metadata": {},
     "output_type": "execute_result"
    }
   ],
   "source": [
    "len(filt_bc2en2count)"
   ]
  },
  {
   "cell_type": "code",
   "execution_count": 18,
   "id": "a483a911-5bb6-4771-a47e-a8e02274cf64",
   "metadata": {},
   "outputs": [],
   "source": [
    "counts=[]\n",
    "for bc,en2count in filt_bc2en2count.items():\n",
    "    for en,count in en2count.items():\n",
    "        counts.append(count)"
   ]
  },
  {
   "cell_type": "code",
   "execution_count": 19,
   "id": "0e4c9c21-a08b-467f-9d86-f81848d31c5f",
   "metadata": {},
   "outputs": [
    {
     "data": {
      "text/plain": [
       "(0.0, 10.0)"
      ]
     },
     "execution_count": 19,
     "metadata": {},
     "output_type": "execute_result"
    },
    {
     "data": {
      "image/png": "[encoded data removed]",
      "text/plain": [
       "<Figure size 432x288 with 1 Axes>"
      ]
     },
     "metadata": {
      "needs_background": "light"
     },
     "output_type": "display_data"
    }
   ],
   "source": [
    "plt.hist(counts,bins=range(100))\n",
    "plt.xlim(0,10)"
   ]
  },
  {
   "cell_type": "code",
   "execution_count": 20,
   "id": "eb626646-d48e-4057-a3bc-ce3cbcf7f282",
   "metadata": {},
   "outputs": [],
   "source": [
    "filt_ubc2en={}\n",
    "for bc,en2count in filt_bc2en2count.items():\n",
    "    \n",
    "    # skip if not unique match\n",
    "    if len(en2count)>1: continue\n",
    "    \n",
    "    for en in en2count:\n",
    "        if bc not in filt_ubc2en:\n",
    "            filt_ubc2en[bc]=en\n",
    "        else: \n",
    "            raise ValueError('1')"
   ]
  },
  {
   "cell_type": "code",
   "execution_count": 21,
   "id": "251b78d9-d764-495e-b0f7-9169b2b34c3e",
   "metadata": {},
   "outputs": [
    {
     "data": {
      "text/plain": [
       "4103"
      ]
     },
     "execution_count": 21,
     "metadata": {},
     "output_type": "execute_result"
    }
   ],
   "source": [
    "len(filt_ubc2en)"
   ]
  },
  {
   "cell_type": "code",
   "execution_count": 22,
   "id": "5abae26f-768a-450c-a820-038ac223f386",
   "metadata": {},
   "outputs": [],
   "source": [
    "with open(f'filt_ubc2en.x={x}.{dictname}.pydict.pickle','wb') as f:\n",
    "    pickle.dump(filt_ubc2en,f,protocol=pickle.HIGHEST_PROTOCOL)"
   ]
  },
  {
   "cell_type": "code",
   "execution_count": null,
   "id": "b82b3397-98ad-4a14-8272-5d2fb81bcda6",
   "metadata": {},
   "outputs": [],
   "source": []
  }
 ],
 "metadata": {
  "kernelspec": {
   "display_name": "Python 3 (ipykernel)",
   "language": "python",
   "name": "python3"
  },
  "language_info": {
   "codemirror_mode": {
    "name": "ipython",
    "version": 3
   },
   "file_extension": ".py",
   "mimetype": "text/x-python",
   "name": "python",
   "nbconvert_exporter": "python",
   "pygments_lexer": "ipython3",
   "version": "3.9.7"
  }
 },
 "nbformat": 4,
 "nbformat_minor": 5
}
